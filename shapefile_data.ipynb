{
 "cells": [
  {
   "cell_type": "code",
   "execution_count": 1,
   "metadata": {},
   "outputs": [],
   "source": [
    "import shapefile"
   ]
  },
  {
   "cell_type": "code",
   "execution_count": 2,
   "metadata": {},
   "outputs": [],
   "source": [
    "#read the shapefiles\n",
    "vill = shapefile.Reader('Villages.shp')\n",
    "road = shapefile.Reader('Road_Network.shp')"
   ]
  },
  {
   "cell_type": "code",
   "execution_count": 6,
   "metadata": {},
   "outputs": [],
   "source": [
    "#get the points of all the villages\n",
    "points = [vill.shape(i).points[0] for i in range(len(vill.shapes()))] # X,Y in the wgs-44 system\n",
    "def displaypoints(index): #function just to prettyprint\n",
    "    print(\"X :\",points[index][0])\n",
    "    print(\"Y :\",points[index][1])\n",
    "#displaypoints(0) #to test if it works- working"
   ]
  },
  {
   "cell_type": "code",
   "execution_count": 8,
   "metadata": {},
   "outputs": [
    {
     "name": "stdout",
     "output_type": "stream",
     "text": [
      "Name  :  MR2\n",
      "PREFIX  :  Dhrampur Chauk\n",
      "PRE_Type  :  Chauk\n",
      "SUFFIX  :  River End\n",
      "FULL_NAME  :  Dharampur Road\n",
      "Oneway  :  F\n",
      "Shape_Leng  :  1622.69599276\n",
      "FT_SpeedLi  :  80\n",
      "TF_SpeedLi  :  80\n",
      "FT_Time  :  1.21702199457\n",
      "TF_Time  :  1.21702199457\n"
     ]
    }
   ],
   "source": [
    "fields = road.fields\n",
    "records = road.records()\n",
    "def showroads(index):\n",
    "    for i in range(len(fields)-1):\n",
    "        print(fields[i+1][0],\" : \",records[index][i])\n",
    "showroads(1)"
   ]
  },
  {
   "cell_type": "code",
   "execution_count": 36,
   "metadata": {},
   "outputs": [],
   "source": [
    "#road.shapes()[0].points\n",
    "#im still trying to get the road's start and end points exactly and there is still some little bit of work left in this\n",
    "#ill work on that part today and send that in the next iteration"
   ]
  },
  {
   "cell_type": "code",
   "execution_count": null,
   "metadata": {},
   "outputs": [],
   "source": []
  },
  {
   "cell_type": "code",
   "execution_count": null,
   "metadata": {},
   "outputs": [],
   "source": []
  }
 ],
 "metadata": {
  "kernelspec": {
   "display_name": "Python 3",
   "language": "python",
   "name": "python3"
  },
  "language_info": {
   "codemirror_mode": {
    "name": "ipython",
    "version": 3
   },
   "file_extension": ".py",
   "mimetype": "text/x-python",
   "name": "python",
   "nbconvert_exporter": "python",
   "pygments_lexer": "ipython3",
   "version": "3.5.2"
  }
 },
 "nbformat": 4,
 "nbformat_minor": 2
}
