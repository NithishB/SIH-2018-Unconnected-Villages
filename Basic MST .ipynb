{
 "cells": [
  {
   "cell_type": "code",
   "execution_count": 1,
   "metadata": {},
   "outputs": [],
   "source": [
    "class Node:\n",
    "    def __init__(self,x,y,name):\n",
    "        self.x = x\n",
    "        self.y = y\n",
    "        self.name = name\n",
    "    def displayNodeDetails(self):\n",
    "        print(\"\\nName : \",self.name,\"\\nX : \",self.x,\"\\nY : \",self.y)\n",
    "\n",
    "class Edge:\n",
    "    def __init__(self,name1,name2,cost):\n",
    "        self.node1 = name1\n",
    "        self.node2 = name2\n",
    "        self.cost = cost\n",
    "    def displayEdgeDetails(self):\n",
    "        print(\"\\nNode1 : \",self.node1,\"\\nNode2 : \",self.node2,\"\\nCost : \",self.cost)\n",
    "\n",
    "class Graph:\n",
    "    def __init__(self):\n",
    "        self.visited = []\n",
    "        self.selected = []\n",
    "        self.nodes = []\n",
    "        self.edges = []\n",
    "    def addNode(self,x,y,name):\n",
    "        temp = Node(x,y,name)\n",
    "        self.nodes.append(temp)\n",
    "    def addEdge(self,name1,name2,cost):\n",
    "        temp = Edge(name1,name2,cost)\n",
    "        self.edges.append(temp)\n",
    "    def getcost(self,edge):\n",
    "        return edge.cost\n",
    "    def sortEdges(self):\n",
    "        self.edges = sorted(self.edges, key=self.getcost)\n",
    "    def kruskal(self):\n",
    "        i = 0\n",
    "        while(len(self.visited) != len(self.nodes)):\n",
    "            edge = self.edges[i]\n",
    "            if(edge.node1 not in self.visited or edge.node2 not in self.visited):\n",
    "                self.selected.append(edge)\n",
    "                if(edge.node1 not in self.visited): self.visited.append(edge.node1)\n",
    "                if(edge.node2 not in self.visited): self.visited.append(edge.node2)\n",
    "            i+=1"
   ]
  },
  {
   "cell_type": "code",
   "execution_count": 11,
   "metadata": {},
   "outputs": [],
   "source": [
    "g = Graph()"
   ]
  },
  {
   "cell_type": "code",
   "execution_count": 12,
   "metadata": {},
   "outputs": [],
   "source": [
    "g.addNode(1,2,\"p1\")\n",
    "g.addNode(3,4,\"p2\")\n",
    "g.addNode(6,2,\"p3\")\n",
    "g.addEdge(\"p1\",\"p2\",2)\n",
    "g.addEdge(\"p2\",\"p3\",5)\n",
    "g.addEdge(\"p1\",\"p3\",3)"
   ]
  },
  {
   "cell_type": "code",
   "execution_count": 13,
   "metadata": {},
   "outputs": [],
   "source": [
    "g.sortEdges()"
   ]
  },
  {
   "cell_type": "code",
   "execution_count": 14,
   "metadata": {},
   "outputs": [],
   "source": [
    "g.kruskal()"
   ]
  },
  {
   "cell_type": "code",
   "execution_count": 15,
   "metadata": {},
   "outputs": [
    {
     "data": {
      "text/plain": [
       "['p1', 'p2', 'p3']"
      ]
     },
     "execution_count": 15,
     "metadata": {},
     "output_type": "execute_result"
    }
   ],
   "source": [
    "g.visited"
   ]
  },
  {
   "cell_type": "code",
   "execution_count": 16,
   "metadata": {},
   "outputs": [
    {
     "name": "stdout",
     "output_type": "stream",
     "text": [
      "\n",
      "Node1 :  p1 \n",
      "Node2 :  p2 \n",
      "Cost :  2\n",
      "\n",
      "Node1 :  p1 \n",
      "Node2 :  p3 \n",
      "Cost :  3\n"
     ]
    }
   ],
   "source": [
    "for i in g.selected:\n",
    "    i.displayEdgeDetails()"
   ]
  },
  {
   "cell_type": "code",
   "execution_count": null,
   "metadata": {},
   "outputs": [],
   "source": []
  }
 ],
 "metadata": {
  "kernelspec": {
   "display_name": "Python 3",
   "language": "python",
   "name": "python3"
  },
  "language_info": {
   "codemirror_mode": {
    "name": "ipython",
    "version": 3
   },
   "file_extension": ".py",
   "mimetype": "text/x-python",
   "name": "python",
   "nbconvert_exporter": "python",
   "pygments_lexer": "ipython3",
   "version": "3.5.2"
  }
 },
 "nbformat": 4,
 "nbformat_minor": 2
}
