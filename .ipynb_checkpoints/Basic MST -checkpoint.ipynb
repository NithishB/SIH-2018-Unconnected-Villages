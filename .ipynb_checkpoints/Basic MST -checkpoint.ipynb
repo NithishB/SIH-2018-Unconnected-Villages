{
 "cells": [
  {
   "cell_type": "code",
   "execution_count": 2,
   "metadata": {},
   "outputs": [],
   "source": [
    "class Node:\n",
    "    def __init__(self,x,y,name):\n",
    "        self.x = x\n",
    "        self.y = y\n",
    "        self.name = name\n",
    "    def displayNodeDetails(self):\n",
    "        print(\"\\nName : \",self.name,\"\\nX : \",self.x,\"\\nY : \",self.y)"
   ]
  },
  {
   "cell_type": "code",
   "execution_count": 5,
   "metadata": {},
   "outputs": [],
   "source": [
    "class Edge:\n",
    "    def __init__(self,name1,name2,cost):\n",
    "        self.node1 = name1\n",
    "        self.node2 = name2\n",
    "        self.cost = cost\n",
    "    def displayEdgeDetails(self):\n",
    "        print(\"\\nNode1 : \",self.node1,\"\\nNode2 : \",self.node2,\"\\nCost : \",self.cost)"
   ]
  },
  {
   "cell_type": "code",
   "execution_count": 60,
   "metadata": {},
   "outputs": [],
   "source": [
    "def getcost(edge):\n",
    "        return edge.cost\n",
    "class Graph:\n",
    "    def __init__(self):\n",
    "        self.visited = []\n",
    "        self.selected = []\n",
    "        self.nodes = []\n",
    "        self.edges = []\n",
    "    def addNode(self,x,y,name):\n",
    "        temp = Node(x,y,name)\n",
    "        self.nodes.append(temp)\n",
    "    def addEdge(self,name1,name2,cost):\n",
    "        temp = Edge(name1,name2,cost)\n",
    "        self.edges.append(temp)\n",
    "    def sortEdges(self):\n",
    "        sorted(self.edges, key=getcost)\n",
    "    def kruskal(self):\n",
    "        i = 0\n",
    "        while(len(self.visited) != len(self.nodes) and i<=len(self.edges)):\n",
    "            edge = self.edges[i]\n",
    "            edge.displayEdgeDetails()\n",
    "            if(edge.node1 not in self.visited and edge.node2 not in self.visited):\n",
    "                self.selected.append(edge)\n",
    "                self.visited.append(edge.node1)\n",
    "                self.visited.append(edge.node2)\n",
    "            i+=1\n",
    "            print(len(self.visited))\n",
    "            "
   ]
  },
  {
   "cell_type": "code",
   "execution_count": 61,
   "metadata": {},
   "outputs": [],
   "source": [
    "g = Graph()"
   ]
  },
  {
   "cell_type": "code",
   "execution_count": 62,
   "metadata": {},
   "outputs": [],
   "source": [
    "g.addNode(1,2,\"p1\")\n",
    "g.addNode(3,4,\"p2\")\n",
    "g.addNode(6,2,\"p3\")\n",
    "g.addEdge(\"p1\",\"p2\",2)\n",
    "g.addEdge(\"p2\",\"p3\",5)\n",
    "g.addEdge(\"p1\",\"p3\",3)"
   ]
  },
  {
   "cell_type": "code",
   "execution_count": 65,
   "metadata": {},
   "outputs": [
    {
     "name": "stdout",
     "output_type": "stream",
     "text": [
      "\n",
      "Node1 :  p1 \n",
      "Node2 :  p2 \n",
      "Cost :  2\n",
      "\n",
      "Node1 :  p2 \n",
      "Node2 :  p3 \n",
      "Cost :  5\n",
      "\n",
      "Node1 :  p1 \n",
      "Node2 :  p3 \n",
      "Cost :  3\n"
     ]
    }
   ],
   "source": [
    "g.sortEdges()\n",
    "for i in g.edges:\n",
    "    i.displayEdgeDetails()"
   ]
  },
  {
   "cell_type": "code",
   "execution_count": 64,
   "metadata": {},
   "outputs": [
    {
     "name": "stdout",
     "output_type": "stream",
     "text": [
      "\n",
      "Node1 :  p1 \n",
      "Node2 :  p2 \n",
      "Cost :  2\n",
      "2\n",
      "\n",
      "Node1 :  p2 \n",
      "Node2 :  p3 \n",
      "Cost :  5\n",
      "2\n",
      "\n",
      "Node1 :  p1 \n",
      "Node2 :  p3 \n",
      "Cost :  3\n",
      "2\n"
     ]
    },
    {
     "ename": "IndexError",
     "evalue": "list index out of range",
     "output_type": "error",
     "traceback": [
      "\u001b[0;31m---------------------------------------------------------------------------\u001b[0m",
      "\u001b[0;31mIndexError\u001b[0m                                Traceback (most recent call last)",
      "\u001b[0;32m<ipython-input-64-e8804222f37e>\u001b[0m in \u001b[0;36m<module>\u001b[0;34m()\u001b[0m\n\u001b[0;32m----> 1\u001b[0;31m \u001b[0mg\u001b[0m\u001b[0;34m.\u001b[0m\u001b[0mkruskal\u001b[0m\u001b[0;34m(\u001b[0m\u001b[0;34m)\u001b[0m\u001b[0;34m\u001b[0m\u001b[0m\n\u001b[0m",
      "\u001b[0;32m<ipython-input-60-ea67f542fea4>\u001b[0m in \u001b[0;36mkruskal\u001b[0;34m(self)\u001b[0m\n\u001b[1;32m     18\u001b[0m         \u001b[0mi\u001b[0m \u001b[0;34m=\u001b[0m \u001b[0;36m0\u001b[0m\u001b[0;34m\u001b[0m\u001b[0m\n\u001b[1;32m     19\u001b[0m         \u001b[0;32mwhile\u001b[0m\u001b[0;34m(\u001b[0m\u001b[0mlen\u001b[0m\u001b[0;34m(\u001b[0m\u001b[0mself\u001b[0m\u001b[0;34m.\u001b[0m\u001b[0mvisited\u001b[0m\u001b[0;34m)\u001b[0m \u001b[0;34m!=\u001b[0m \u001b[0mlen\u001b[0m\u001b[0;34m(\u001b[0m\u001b[0mself\u001b[0m\u001b[0;34m.\u001b[0m\u001b[0mnodes\u001b[0m\u001b[0;34m)\u001b[0m \u001b[0;32mand\u001b[0m \u001b[0mi\u001b[0m\u001b[0;34m<=\u001b[0m\u001b[0mlen\u001b[0m\u001b[0;34m(\u001b[0m\u001b[0mself\u001b[0m\u001b[0;34m.\u001b[0m\u001b[0medges\u001b[0m\u001b[0;34m)\u001b[0m\u001b[0;34m)\u001b[0m\u001b[0;34m:\u001b[0m\u001b[0;34m\u001b[0m\u001b[0m\n\u001b[0;32m---> 20\u001b[0;31m             \u001b[0medge\u001b[0m \u001b[0;34m=\u001b[0m \u001b[0mself\u001b[0m\u001b[0;34m.\u001b[0m\u001b[0medges\u001b[0m\u001b[0;34m[\u001b[0m\u001b[0mi\u001b[0m\u001b[0;34m]\u001b[0m\u001b[0;34m\u001b[0m\u001b[0m\n\u001b[0m\u001b[1;32m     21\u001b[0m             \u001b[0medge\u001b[0m\u001b[0;34m.\u001b[0m\u001b[0mdisplayEdgeDetails\u001b[0m\u001b[0;34m(\u001b[0m\u001b[0;34m)\u001b[0m\u001b[0;34m\u001b[0m\u001b[0m\n\u001b[1;32m     22\u001b[0m             \u001b[0;32mif\u001b[0m\u001b[0;34m(\u001b[0m\u001b[0medge\u001b[0m\u001b[0;34m.\u001b[0m\u001b[0mnode1\u001b[0m \u001b[0;32mnot\u001b[0m \u001b[0;32min\u001b[0m \u001b[0mself\u001b[0m\u001b[0;34m.\u001b[0m\u001b[0mvisited\u001b[0m \u001b[0;32mand\u001b[0m \u001b[0medge\u001b[0m\u001b[0;34m.\u001b[0m\u001b[0mnode2\u001b[0m \u001b[0;32mnot\u001b[0m \u001b[0;32min\u001b[0m \u001b[0mself\u001b[0m\u001b[0;34m.\u001b[0m\u001b[0mvisited\u001b[0m\u001b[0;34m)\u001b[0m\u001b[0;34m:\u001b[0m\u001b[0;34m\u001b[0m\u001b[0m\n",
      "\u001b[0;31mIndexError\u001b[0m: list index out of range"
     ]
    }
   ],
   "source": [
    "g.kruskal()"
   ]
  },
  {
   "cell_type": "code",
   "execution_count": null,
   "metadata": {},
   "outputs": [],
   "source": []
  }
 ],
 "metadata": {
  "kernelspec": {
   "display_name": "Python 3",
   "language": "python",
   "name": "python3"
  },
  "language_info": {
   "codemirror_mode": {
    "name": "ipython",
    "version": 3
   },
   "file_extension": ".py",
   "mimetype": "text/x-python",
   "name": "python",
   "nbconvert_exporter": "python",
   "pygments_lexer": "ipython3",
   "version": "3.5.2"
  }
 },
 "nbformat": 4,
 "nbformat_minor": 2
}
